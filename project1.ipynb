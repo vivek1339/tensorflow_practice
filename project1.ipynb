{
 "cells": [
  {
   "cell_type": "code",
   "execution_count": 1,
   "metadata": {},
   "outputs": [
    {
     "name": "stderr",
     "output_type": "stream",
     "text": [
      "C:\\Users\\vivek\\Anaconda3\\lib\\site-packages\\h5py\\__init__.py:36: FutureWarning: Conversion of the second argument of issubdtype from `float` to `np.floating` is deprecated. In future, it will be treated as `np.float64 == np.dtype(float).type`.\n",
      "  from ._conv import register_converters as _register_converters\n"
     ]
    }
   ],
   "source": [
    "import tensorflow as tf"
   ]
  },
  {
   "cell_type": "code",
   "execution_count": 2,
   "metadata": {},
   "outputs": [],
   "source": [
    "sess=tf.Session()"
   ]
  },
  {
   "cell_type": "code",
   "execution_count": 3,
   "metadata": {},
   "outputs": [],
   "source": [
    "a=tf.constant(3)"
   ]
  },
  {
   "cell_type": "code",
   "execution_count": 4,
   "metadata": {},
   "outputs": [],
   "source": [
    "b=tf.constant(4)"
   ]
  },
  {
   "cell_type": "code",
   "execution_count": 5,
   "metadata": {},
   "outputs": [],
   "source": [
    "c=a+b"
   ]
  },
  {
   "cell_type": "code",
   "execution_count": 6,
   "metadata": {},
   "outputs": [
    {
     "name": "stdout",
     "output_type": "stream",
     "text": [
      "Tensor(\"add:0\", shape=(), dtype=int32)\n"
     ]
    }
   ],
   "source": [
    "print(c)"
   ]
  },
  {
   "cell_type": "code",
   "execution_count": 7,
   "metadata": {},
   "outputs": [
    {
     "name": "stdout",
     "output_type": "stream",
     "text": [
      "7\n"
     ]
    }
   ],
   "source": [
    "print(sess.run(c))"
   ]
  },
  {
   "cell_type": "code",
   "execution_count": 8,
   "metadata": {},
   "outputs": [],
   "source": [
    "from sklearn.datasets import load_boston"
   ]
  },
  {
   "cell_type": "code",
   "execution_count": 9,
   "metadata": {},
   "outputs": [],
   "source": [
    "boston=load_boston()"
   ]
  },
  {
   "cell_type": "code",
   "execution_count": 10,
   "metadata": {},
   "outputs": [],
   "source": [
    "import pandas as pd"
   ]
  },
  {
   "cell_type": "code",
   "execution_count": 11,
   "metadata": {},
   "outputs": [],
   "source": [
    "features=pd.DataFrame(boston.data,columns=boston.feature_names)\n",
    "target=pd.DataFrame(boston.target,columns=[\"Target\"])\n",
    "df=pd.concat([features,target],axis=1)\n",
    "features=boston.feature_names"
   ]
  },
  {
   "cell_type": "code",
   "execution_count": 12,
   "metadata": {},
   "outputs": [],
   "source": [
    "def make_input_fun(df,no_of_epochs):\n",
    "    return tf.estimator.inputs.pandas_input_fn(\n",
    "    x=df,\n",
    "    y=df[\"Target\"],\n",
    "    batch_size=512,\n",
    "    num_epochs=no_of_epochs,\n",
    "    shuffle=True,\n",
    "    num_threads=15\n",
    "    )\n",
    "def make_prediction_input_fn(df, num_epochs):\n",
    "  return tf.estimator.inputs.pandas_input_fn(\n",
    "    x = df,\n",
    "    y = None,\n",
    "    batch_size = 128,\n",
    "    num_epochs = num_epochs,\n",
    "    shuffle = True,\n",
    "    queue_capacity = 1000,\n",
    "    num_threads = 15\n",
    "  )"
   ]
  },
  {
   "cell_type": "code",
   "execution_count": 13,
   "metadata": {},
   "outputs": [
    {
     "name": "stdout",
     "output_type": "stream",
     "text": [
      "['CRIM' 'ZN' 'INDUS' 'CHAS' 'NOX' 'RM' 'AGE' 'DIS' 'RAD' 'TAX' 'PTRATIO'\n",
      " 'B' 'LSTAT']\n"
     ]
    }
   ],
   "source": [
    "print(boston.feature_names)"
   ]
  },
  {
   "cell_type": "code",
   "execution_count": 14,
   "metadata": {},
   "outputs": [],
   "source": [
    "def make_feature_colomns():\n",
    "    input_coloumns=[tf.feature_column.numeric_column(k) for k in features]\n",
    "    return input_coloumns"
   ]
  },
  {
   "cell_type": "code",
   "execution_count": 15,
   "metadata": {},
   "outputs": [
    {
     "name": "stdout",
     "output_type": "stream",
     "text": [
      "[_NumericColumn(key='CRIM', shape=(1,), default_value=None, dtype=tf.float32, normalizer_fn=None), _NumericColumn(key='ZN', shape=(1,), default_value=None, dtype=tf.float32, normalizer_fn=None), _NumericColumn(key='INDUS', shape=(1,), default_value=None, dtype=tf.float32, normalizer_fn=None), _NumericColumn(key='CHAS', shape=(1,), default_value=None, dtype=tf.float32, normalizer_fn=None), _NumericColumn(key='NOX', shape=(1,), default_value=None, dtype=tf.float32, normalizer_fn=None), _NumericColumn(key='RM', shape=(1,), default_value=None, dtype=tf.float32, normalizer_fn=None), _NumericColumn(key='AGE', shape=(1,), default_value=None, dtype=tf.float32, normalizer_fn=None), _NumericColumn(key='DIS', shape=(1,), default_value=None, dtype=tf.float32, normalizer_fn=None), _NumericColumn(key='RAD', shape=(1,), default_value=None, dtype=tf.float32, normalizer_fn=None), _NumericColumn(key='TAX', shape=(1,), default_value=None, dtype=tf.float32, normalizer_fn=None), _NumericColumn(key='PTRATIO', shape=(1,), default_value=None, dtype=tf.float32, normalizer_fn=None), _NumericColumn(key='B', shape=(1,), default_value=None, dtype=tf.float32, normalizer_fn=None), _NumericColumn(key='LSTAT', shape=(1,), default_value=None, dtype=tf.float32, normalizer_fn=None)]\n"
     ]
    }
   ],
   "source": [
    "print(make_feature_colomns())"
   ]
  },
  {
   "cell_type": "code",
   "execution_count": 16,
   "metadata": {},
   "outputs": [
    {
     "name": "stdout",
     "output_type": "stream",
     "text": [
      "INFO:tensorflow:Using default config.\n",
      "WARNING:tensorflow:Using temporary folder as model directory: C:\\Users\\vivek\\AppData\\Local\\Temp\\tmprlp7rd_v\n",
      "INFO:tensorflow:Using config: {'_model_dir': 'C:\\\\Users\\\\vivek\\\\AppData\\\\Local\\\\Temp\\\\tmprlp7rd_v', '_tf_random_seed': None, '_save_summary_steps': 100, '_save_checkpoints_steps': None, '_save_checkpoints_secs': 600, '_session_config': None, '_keep_checkpoint_max': 5, '_keep_checkpoint_every_n_hours': 10000, '_log_step_count_steps': 100, '_train_distribute': None, '_device_fn': None, '_service': None, '_cluster_spec': <tensorflow.python.training.server_lib.ClusterSpec object at 0x0000021578343C18>, '_task_type': 'worker', '_task_id': 0, '_global_id_in_cluster': 0, '_master': '', '_evaluation_master': '', '_is_chief': True, '_num_ps_replicas': 0, '_num_worker_replicas': 1}\n"
     ]
    }
   ],
   "source": [
    "model=tf.estimator.DNNRegressor(hidden_units=[20,20],feature_columns=make_feature_colomns(),)"
   ]
  },
  {
   "cell_type": "code",
   "execution_count": 18,
   "metadata": {},
   "outputs": [
    {
     "name": "stdout",
     "output_type": "stream",
     "text": [
      "WARNING:tensorflow:enqueue_data was called with num_epochs and num_threads > 1. num_epochs is applied per thread, so this will produce more epochs than you probably intend. If you want to limit epochs, use one thread.\n",
      "WARNING:tensorflow:enqueue_data was called with shuffle=True, num_threads > 1, and num_epochs. This will create multiple threads, all reading the array/dataframe in order adding to the same shuffling queue; the results will likely not be sufficiently shuffled.\n",
      "INFO:tensorflow:Calling model_fn.\n",
      "INFO:tensorflow:Done calling model_fn.\n",
      "INFO:tensorflow:Create CheckpointSaverHook.\n",
      "INFO:tensorflow:Graph was finalized.\n",
      "INFO:tensorflow:Running local_init_op.\n",
      "INFO:tensorflow:Done running local_init_op.\n",
      "INFO:tensorflow:Saving checkpoints for 0 into C:\\Users\\vivek\\AppData\\Local\\Temp\\tmprlp7rd_v\\model.ckpt.\n",
      "INFO:tensorflow:loss = 2452316.5, step = 0\n",
      "INFO:tensorflow:global_step/sec: 48.3147\n",
      "INFO:tensorflow:loss = 28891.062, step = 100 (2.070 sec)\n",
      "INFO:tensorflow:global_step/sec: 54.0224\n",
      "INFO:tensorflow:loss = 25475.75, step = 200 (1.851 sec)\n",
      "INFO:tensorflow:global_step/sec: 55.5816\n",
      "INFO:tensorflow:loss = 25286.592, step = 300 (1.798 sec)\n",
      "INFO:tensorflow:global_step/sec: 57.2945\n",
      "INFO:tensorflow:loss = 24001.672, step = 400 (1.746 sec)\n",
      "INFO:tensorflow:global_step/sec: 57.0518\n",
      "INFO:tensorflow:loss = 20962.77, step = 500 (1.753 sec)\n",
      "INFO:tensorflow:global_step/sec: 57.2797\n",
      "INFO:tensorflow:loss = 18526.465, step = 600 (1.745 sec)\n",
      "INFO:tensorflow:global_step/sec: 57.0335\n",
      "INFO:tensorflow:loss = 18942.277, step = 700 (1.753 sec)\n",
      "INFO:tensorflow:global_step/sec: 56.931\n",
      "INFO:tensorflow:loss = 15620.653, step = 800 (1.756 sec)\n",
      "INFO:tensorflow:global_step/sec: 56.8697\n",
      "INFO:tensorflow:loss = 14426.2295, step = 900 (1.759 sec)\n",
      "INFO:tensorflow:global_step/sec: 56.5958\n",
      "INFO:tensorflow:loss = 16690.26, step = 1000 (1.766 sec)\n",
      "INFO:tensorflow:global_step/sec: 56.9656\n",
      "INFO:tensorflow:loss = 16297.675, step = 1100 (1.755 sec)\n",
      "INFO:tensorflow:global_step/sec: 57.0394\n",
      "INFO:tensorflow:loss = 15074.344, step = 1200 (1.752 sec)\n",
      "INFO:tensorflow:global_step/sec: 56.3905\n",
      "INFO:tensorflow:loss = 14259.35, step = 1300 (1.778 sec)\n",
      "INFO:tensorflow:global_step/sec: 56.6192\n",
      "INFO:tensorflow:loss = 14051.909, step = 1400 (1.762 sec)\n",
      "INFO:tensorflow:global_step/sec: 56.6483\n",
      "INFO:tensorflow:loss = 14784.28, step = 1500 (1.767 sec)\n",
      "INFO:tensorflow:global_step/sec: 55.519\n",
      "INFO:tensorflow:loss = 9943.992, step = 1600 (1.799 sec)\n",
      "INFO:tensorflow:global_step/sec: 56.1977\n",
      "INFO:tensorflow:loss = 13686.715, step = 1700 (1.779 sec)\n",
      "INFO:tensorflow:global_step/sec: 53.9397\n",
      "INFO:tensorflow:loss = 13236.144, step = 1800 (1.854 sec)\n",
      "INFO:tensorflow:global_step/sec: 55.5238\n",
      "INFO:tensorflow:loss = 11176.921, step = 1900 (1.800 sec)\n",
      "INFO:tensorflow:global_step/sec: 57.0626\n",
      "INFO:tensorflow:loss = 13350.359, step = 2000 (1.753 sec)\n",
      "INFO:tensorflow:global_step/sec: 50.8961\n",
      "INFO:tensorflow:loss = 13642.773, step = 2100 (1.965 sec)\n",
      "INFO:tensorflow:global_step/sec: 56.8101\n",
      "INFO:tensorflow:loss = 14265.391, step = 2200 (1.759 sec)\n",
      "INFO:tensorflow:global_step/sec: 56.9056\n",
      "INFO:tensorflow:loss = 12122.704, step = 2300 (1.757 sec)\n",
      "INFO:tensorflow:global_step/sec: 54.7899\n",
      "INFO:tensorflow:loss = 10781.604, step = 2400 (1.827 sec)\n",
      "INFO:tensorflow:global_step/sec: 54.5534\n",
      "INFO:tensorflow:loss = 12881.042, step = 2500 (1.831 sec)\n",
      "INFO:tensorflow:global_step/sec: 56.1704\n",
      "INFO:tensorflow:loss = 13891.616, step = 2600 (1.781 sec)\n",
      "INFO:tensorflow:global_step/sec: 57.2952\n",
      "INFO:tensorflow:loss = 11951.754, step = 2700 (1.745 sec)\n",
      "INFO:tensorflow:global_step/sec: 56.6826\n",
      "INFO:tensorflow:loss = 11286.804, step = 2800 (1.764 sec)\n",
      "INFO:tensorflow:global_step/sec: 58.0126\n",
      "INFO:tensorflow:loss = 11644.995, step = 2900 (1.723 sec)\n",
      "INFO:tensorflow:global_step/sec: 50.8809\n",
      "INFO:tensorflow:loss = 11049.328, step = 3000 (1.966 sec)\n",
      "INFO:tensorflow:global_step/sec: 56.3287\n",
      "INFO:tensorflow:loss = 10004.551, step = 3100 (1.777 sec)\n",
      "INFO:tensorflow:global_step/sec: 56.8927\n",
      "INFO:tensorflow:loss = 10102.383, step = 3200 (1.756 sec)\n",
      "INFO:tensorflow:global_step/sec: 56.3113\n",
      "INFO:tensorflow:loss = 10935.545, step = 3300 (1.772 sec)\n",
      "INFO:tensorflow:global_step/sec: 52.3979\n",
      "INFO:tensorflow:loss = 9525.305, step = 3400 (1.914 sec)\n",
      "INFO:tensorflow:global_step/sec: 51.844\n",
      "INFO:tensorflow:loss = 8955.874, step = 3500 (1.928 sec)\n",
      "INFO:tensorflow:global_step/sec: 56.4767\n",
      "INFO:tensorflow:loss = 9613.114, step = 3600 (1.769 sec)\n",
      "INFO:tensorflow:global_step/sec: 57.2304\n",
      "INFO:tensorflow:loss = 9809.286, step = 3700 (1.747 sec)\n",
      "INFO:tensorflow:global_step/sec: 56.7765\n",
      "INFO:tensorflow:loss = 9782.697, step = 3800 (1.761 sec)\n",
      "INFO:tensorflow:global_step/sec: 52.3729\n",
      "INFO:tensorflow:loss = 9517.292, step = 3900 (1.910 sec)\n",
      "INFO:tensorflow:global_step/sec: 56.4394\n",
      "INFO:tensorflow:loss = 9822.196, step = 4000 (1.772 sec)\n",
      "INFO:tensorflow:global_step/sec: 56.2363\n",
      "INFO:tensorflow:loss = 9456.531, step = 4100 (1.778 sec)\n",
      "INFO:tensorflow:global_step/sec: 56.9378\n",
      "INFO:tensorflow:loss = 9490.376, step = 4200 (1.756 sec)\n",
      "INFO:tensorflow:global_step/sec: 56.9701\n",
      "INFO:tensorflow:loss = 9430.326, step = 4300 (1.756 sec)\n",
      "INFO:tensorflow:global_step/sec: 53.7328\n",
      "INFO:tensorflow:loss = 10058.978, step = 4400 (1.861 sec)\n",
      "INFO:tensorflow:global_step/sec: 54.0827\n",
      "INFO:tensorflow:loss = 8874.507, step = 4500 (1.848 sec)\n",
      "INFO:tensorflow:global_step/sec: 56.7124\n",
      "INFO:tensorflow:loss = 8960.874, step = 4600 (1.763 sec)\n",
      "INFO:tensorflow:global_step/sec: 57.2956\n",
      "INFO:tensorflow:loss = 9244.1, step = 4700 (1.747 sec)\n",
      "INFO:tensorflow:global_step/sec: 57.1908\n",
      "INFO:tensorflow:loss = 10736.414, step = 4800 (1.748 sec)\n",
      "INFO:tensorflow:global_step/sec: 57.3982\n",
      "INFO:tensorflow:loss = 8704.433, step = 4900 (1.742 sec)\n",
      "INFO:tensorflow:global_step/sec: 56.7763\n",
      "INFO:tensorflow:loss = 8740.204, step = 5000 (1.761 sec)\n",
      "INFO:tensorflow:global_step/sec: 56.9084\n",
      "INFO:tensorflow:loss = 8690.032, step = 5100 (1.757 sec)\n",
      "INFO:tensorflow:global_step/sec: 56.9494\n",
      "INFO:tensorflow:loss = 7395.839, step = 5200 (1.757 sec)\n",
      "INFO:tensorflow:global_step/sec: 57.4151\n",
      "INFO:tensorflow:loss = 9511.845, step = 5300 (1.742 sec)\n",
      "INFO:tensorflow:global_step/sec: 57.5501\n",
      "INFO:tensorflow:loss = 9383.332, step = 5400 (1.735 sec)\n",
      "INFO:tensorflow:global_step/sec: 57.2063\n",
      "INFO:tensorflow:loss = 8647.195, step = 5500 (1.748 sec)\n",
      "INFO:tensorflow:global_step/sec: 56.9881\n",
      "INFO:tensorflow:loss = 9269.507, step = 5600 (1.755 sec)\n",
      "INFO:tensorflow:global_step/sec: 56.9198\n",
      "INFO:tensorflow:loss = 8613.58, step = 5700 (1.757 sec)\n",
      "INFO:tensorflow:global_step/sec: 56.0153\n",
      "INFO:tensorflow:loss = 8400.929, step = 5800 (1.786 sec)\n",
      "INFO:tensorflow:global_step/sec: 55.4883\n",
      "INFO:tensorflow:loss = 8030.271, step = 5900 (1.801 sec)\n",
      "INFO:tensorflow:global_step/sec: 54.9712\n",
      "INFO:tensorflow:loss = 7625.3555, step = 6000 (1.819 sec)\n",
      "INFO:tensorflow:global_step/sec: 55.1791\n",
      "INFO:tensorflow:loss = 9046.467, step = 6100 (1.812 sec)\n",
      "INFO:tensorflow:global_step/sec: 51.9812\n",
      "INFO:tensorflow:loss = 8101.0405, step = 6200 (2.187 sec)\n",
      "INFO:tensorflow:global_step/sec: 46.3463\n",
      "INFO:tensorflow:loss = 8327.55, step = 6300 (1.894 sec)\n",
      "INFO:tensorflow:global_step/sec: 47.8028\n",
      "INFO:tensorflow:loss = 9371.741, step = 6400 (2.094 sec)\n",
      "INFO:tensorflow:global_step/sec: 51.1112\n",
      "INFO:tensorflow:loss = 10294.157, step = 6500 (1.952 sec)\n",
      "INFO:tensorflow:global_step/sec: 62.2298\n",
      "INFO:tensorflow:loss = 8981.58, step = 6600 (1.609 sec)\n",
      "INFO:tensorflow:global_step/sec: 57.165\n",
      "INFO:tensorflow:loss = 7305.088, step = 6700 (1.751 sec)\n",
      "INFO:tensorflow:global_step/sec: 57.4599\n",
      "INFO:tensorflow:loss = 7997.7734, step = 6800 (1.738 sec)\n",
      "INFO:tensorflow:global_step/sec: 56.68\n",
      "INFO:tensorflow:loss = 9494.4375, step = 6900 (1.765 sec)\n",
      "INFO:tensorflow:global_step/sec: 55.6115\n",
      "INFO:tensorflow:loss = 8282.177, step = 7000 (1.798 sec)\n",
      "INFO:tensorflow:global_step/sec: 55.4137\n",
      "INFO:tensorflow:loss = 7673.2715, step = 7100 (1.804 sec)\n",
      "INFO:tensorflow:global_step/sec: 56.974\n",
      "INFO:tensorflow:loss = 7100.0947, step = 7200 (1.755 sec)\n",
      "INFO:tensorflow:global_step/sec: 57.0777\n",
      "INFO:tensorflow:loss = 7236.8506, step = 7300 (1.752 sec)\n",
      "INFO:tensorflow:global_step/sec: 57.1749\n",
      "INFO:tensorflow:loss = 10947.889, step = 7400 (1.749 sec)\n",
      "INFO:tensorflow:Saving checkpoints for 7413 into C:\\Users\\vivek\\AppData\\Local\\Temp\\tmprlp7rd_v\\model.ckpt.\n"
     ]
    },
    {
     "name": "stdout",
     "output_type": "stream",
     "text": [
      "INFO:tensorflow:Loss for final step: 1500.4241.\n"
     ]
    }
   ],
   "source": [
    "for i in range(1):\n",
    "    model.train(input_fn=make_input_fun(df,no_of_epochs=500),steps=100000)"
   ]
  },
  {
   "cell_type": "code",
   "execution_count": 19,
   "metadata": {},
   "outputs": [
    {
     "name": "stdout",
     "output_type": "stream",
     "text": [
      "WARNING:tensorflow:enqueue_data was called with num_epochs and num_threads > 1. num_epochs is applied per thread, so this will produce more epochs than you probably intend. If you want to limit epochs, use one thread.\n",
      "WARNING:tensorflow:enqueue_data was called with shuffle=True, num_threads > 1, and num_epochs. This will create multiple threads, all reading the array/dataframe in order adding to the same shuffling queue; the results will likely not be sufficiently shuffled.\n",
      "INFO:tensorflow:Calling model_fn.\n",
      "INFO:tensorflow:Done calling model_fn.\n",
      "INFO:tensorflow:Starting evaluation at 2018-10-11-07:50:58\n",
      "INFO:tensorflow:Graph was finalized.\n",
      "INFO:tensorflow:Restoring parameters from C:\\Users\\vivek\\AppData\\Local\\Temp\\tmprlp7rd_v\\model.ckpt-7413\n",
      "INFO:tensorflow:Running local_init_op.\n",
      "INFO:tensorflow:Done running local_init_op.\n",
      "INFO:tensorflow:Finished evaluation at 2018-10-11-07:50:59\n",
      "INFO:tensorflow:Saving dict for global step 7413: average_loss = 19.067024, global_step = 7413, label/mean = 22.532808, loss = 9647.915, prediction/mean = 21.11719\n",
      "INFO:tensorflow:Saving 'checkpoint_path' summary for global step 7413: C:\\Users\\vivek\\AppData\\Local\\Temp\\tmprlp7rd_v\\model.ckpt-7413\n",
      "RMSE on validation dataset = 4.366580486297607\n"
     ]
    }
   ],
   "source": [
    "import numpy as np\n",
    "def print_rmse(model, name, df):\n",
    "  metrics = model.evaluate(input_fn = make_input_fun(df, 1))\n",
    "  print('RMSE on {} dataset = {}'.format(name, np.sqrt(metrics['average_loss'])))\n",
    "print_rmse(model, 'validation', df)"
   ]
  },
  {
   "cell_type": "code",
   "execution_count": null,
   "metadata": {},
   "outputs": [],
   "source": []
  },
  {
   "cell_type": "code",
   "execution_count": null,
   "metadata": {},
   "outputs": [],
   "source": []
  }
 ],
 "metadata": {
  "kernelspec": {
   "display_name": "Python 3",
   "language": "python",
   "name": "python3"
  },
  "language_info": {
   "codemirror_mode": {
    "name": "ipython",
    "version": 3
   },
   "file_extension": ".py",
   "mimetype": "text/x-python",
   "name": "python",
   "nbconvert_exporter": "python",
   "pygments_lexer": "ipython3",
   "version": "3.6.4"
  }
 },
 "nbformat": 4,
 "nbformat_minor": 2
}
