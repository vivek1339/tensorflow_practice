{
 "cells": [
  {
   "cell_type": "code",
   "execution_count": 1,
   "metadata": {},
   "outputs": [
    {
     "name": "stderr",
     "output_type": "stream",
     "text": [
      "C:\\Users\\vivek\\Anaconda3\\lib\\site-packages\\h5py\\__init__.py:36: FutureWarning: Conversion of the second argument of issubdtype from `float` to `np.floating` is deprecated. In future, it will be treated as `np.float64 == np.dtype(float).type`.\n",
      "  from ._conv import register_converters as _register_converters\n"
     ]
    }
   ],
   "source": [
    "import tensorflow as tf"
   ]
  },
  {
   "cell_type": "code",
   "execution_count": 2,
   "metadata": {},
   "outputs": [],
   "source": [
    "import pandas as pd"
   ]
  },
  {
   "cell_type": "code",
   "execution_count": 3,
   "metadata": {},
   "outputs": [],
   "source": [
    "data=pd.read_csv('data_proj2.csv')\n",
    "features=[\"a\",\"b\"]"
   ]
  },
  {
   "cell_type": "code",
   "execution_count": 4,
   "metadata": {},
   "outputs": [
    {
     "data": {
      "text/html": [
       "<div>\n",
       "<style scoped>\n",
       "    .dataframe tbody tr th:only-of-type {\n",
       "        vertical-align: middle;\n",
       "    }\n",
       "\n",
       "    .dataframe tbody tr th {\n",
       "        vertical-align: top;\n",
       "    }\n",
       "\n",
       "    .dataframe thead th {\n",
       "        text-align: right;\n",
       "    }\n",
       "</style>\n",
       "<table border=\"1\" class=\"dataframe\">\n",
       "  <thead>\n",
       "    <tr style=\"text-align: right;\">\n",
       "      <th></th>\n",
       "      <th>a</th>\n",
       "      <th>b</th>\n",
       "    </tr>\n",
       "  </thead>\n",
       "  <tbody>\n",
       "    <tr>\n",
       "      <th>0</th>\n",
       "      <td>0</td>\n",
       "      <td>0.000000</td>\n",
       "    </tr>\n",
       "    <tr>\n",
       "      <th>1</th>\n",
       "      <td>1</td>\n",
       "      <td>0.841471</td>\n",
       "    </tr>\n",
       "    <tr>\n",
       "      <th>2</th>\n",
       "      <td>2</td>\n",
       "      <td>0.909297</td>\n",
       "    </tr>\n",
       "    <tr>\n",
       "      <th>3</th>\n",
       "      <td>3</td>\n",
       "      <td>0.141120</td>\n",
       "    </tr>\n",
       "    <tr>\n",
       "      <th>4</th>\n",
       "      <td>4</td>\n",
       "      <td>-0.756802</td>\n",
       "    </tr>\n",
       "  </tbody>\n",
       "</table>\n",
       "</div>"
      ],
      "text/plain": [
       "   a         b\n",
       "0  0  0.000000\n",
       "1  1  0.841471\n",
       "2  2  0.909297\n",
       "3  3  0.141120\n",
       "4  4 -0.756802"
      ]
     },
     "execution_count": 4,
     "metadata": {},
     "output_type": "execute_result"
    }
   ],
   "source": [
    "data.head()"
   ]
  },
  {
   "cell_type": "markdown",
   "metadata": {},
   "source": [
    " "
   ]
  },
  {
   "cell_type": "code",
   "execution_count": 5,
   "metadata": {},
   "outputs": [],
   "source": [
    "def make_input_fun(df,no_of_epochs):\n",
    "    return tf.estimator.inputs.pandas_input_fn(\n",
    "    x=df,\n",
    "    y=df[\"b\"],\n",
    "    batch_size=512,\n",
    "    num_epochs=no_of_epochs,\n",
    "    shuffle=True,\n",
    "    num_threads=15\n",
    "    )\n",
    "def make_prediction_input_fn(df, num_epochs):\n",
    "  return tf.estimator.inputs.pandas_input_fn(\n",
    "    x = df,\n",
    "    y = None,\n",
    "    batch_size = 128,\n",
    "    num_epochs = num_epochs,\n",
    "    shuffle = True,\n",
    "    queue_capacity = 1000,\n",
    "    num_threads = 15\n",
    "  )"
   ]
  },
  {
   "cell_type": "code",
   "execution_count": 6,
   "metadata": {},
   "outputs": [],
   "source": [
    "def make_feature_colomns():\n",
    "    input_coloumns=[tf.feature_column.numeric_column(k) for k in features]\n",
    "    return input_coloumns"
   ]
  },
  {
   "cell_type": "code",
   "execution_count": 7,
   "metadata": {},
   "outputs": [
    {
     "name": "stdout",
     "output_type": "stream",
     "text": [
      "[_NumericColumn(key='a', shape=(1,), default_value=None, dtype=tf.float32, normalizer_fn=None), _NumericColumn(key='b', shape=(1,), default_value=None, dtype=tf.float32, normalizer_fn=None)]\n"
     ]
    }
   ],
   "source": [
    "print(make_feature_colomns())"
   ]
  },
  {
   "cell_type": "code",
   "execution_count": 8,
   "metadata": {},
   "outputs": [
    {
     "name": "stdout",
     "output_type": "stream",
     "text": [
      "INFO:tensorflow:Using default config.\n",
      "WARNING:tensorflow:Using temporary folder as model directory: C:\\Users\\vivek\\AppData\\Local\\Temp\\tmpp9v9vdim\n",
      "INFO:tensorflow:Using config: {'_model_dir': 'C:\\\\Users\\\\vivek\\\\AppData\\\\Local\\\\Temp\\\\tmpp9v9vdim', '_tf_random_seed': None, '_save_summary_steps': 100, '_save_checkpoints_steps': None, '_save_checkpoints_secs': 600, '_session_config': None, '_keep_checkpoint_max': 5, '_keep_checkpoint_every_n_hours': 10000, '_log_step_count_steps': 100, '_train_distribute': None, '_device_fn': None, '_service': None, '_cluster_spec': <tensorflow.python.training.server_lib.ClusterSpec object at 0x000001A7121587F0>, '_task_type': 'worker', '_task_id': 0, '_global_id_in_cluster': 0, '_master': '', '_evaluation_master': '', '_is_chief': True, '_num_ps_replicas': 0, '_num_worker_replicas': 1}\n"
     ]
    }
   ],
   "source": [
    "model=tf.estimator.DNNRegressor(hidden_units=[15,15],feature_columns=make_feature_colomns(),)"
   ]
  },
  {
   "cell_type": "code",
   "execution_count": 9,
   "metadata": {},
   "outputs": [
    {
     "name": "stdout",
     "output_type": "stream",
     "text": [
      "WARNING:tensorflow:enqueue_data was called with num_epochs and num_threads > 1. num_epochs is applied per thread, so this will produce more epochs than you probably intend. If you want to limit epochs, use one thread.\n",
      "WARNING:tensorflow:enqueue_data was called with shuffle=True, num_threads > 1, and num_epochs. This will create multiple threads, all reading the array/dataframe in order adding to the same shuffling queue; the results will likely not be sufficiently shuffled.\n",
      "INFO:tensorflow:Calling model_fn.\n",
      "INFO:tensorflow:Done calling model_fn.\n",
      "INFO:tensorflow:Create CheckpointSaverHook.\n",
      "INFO:tensorflow:Graph was finalized.\n",
      "INFO:tensorflow:Running local_init_op.\n",
      "INFO:tensorflow:Done running local_init_op.\n",
      "INFO:tensorflow:Saving checkpoints for 0 into C:\\Users\\vivek\\AppData\\Local\\Temp\\tmpp9v9vdim\\model.ckpt.\n",
      "INFO:tensorflow:loss = 2297748800000.0, step = 0\n",
      "INFO:tensorflow:global_step/sec: 103.474\n",
      "INFO:tensorflow:loss = 211.8201, step = 100 (0.944 sec)\n",
      "INFO:tensorflow:global_step/sec: 105.299\n",
      "INFO:tensorflow:loss = 238.14957, step = 200 (0.927 sec)\n",
      "INFO:tensorflow:global_step/sec: 107.785\n",
      "INFO:tensorflow:loss = 222.45187, step = 300 (0.926 sec)\n",
      "INFO:tensorflow:global_step/sec: 126.527\n",
      "INFO:tensorflow:loss = 213.05093, step = 400 (0.786 sec)\n",
      "INFO:tensorflow:global_step/sec: 125.19\n",
      "INFO:tensorflow:loss = 222.00922, step = 500 (0.802 sec)\n",
      "INFO:tensorflow:global_step/sec: 121.765\n",
      "INFO:tensorflow:loss = 221.0386, step = 600 (0.820 sec)\n",
      "INFO:tensorflow:global_step/sec: 118.683\n",
      "INFO:tensorflow:loss = 210.49455, step = 700 (0.845 sec)\n",
      "INFO:tensorflow:global_step/sec: 113.258\n",
      "INFO:tensorflow:loss = 214.9757, step = 800 (0.882 sec)\n",
      "INFO:tensorflow:global_step/sec: 112.715\n",
      "INFO:tensorflow:loss = 225.3483, step = 900 (0.888 sec)\n",
      "INFO:tensorflow:global_step/sec: 118.424\n",
      "INFO:tensorflow:loss = 221.1274, step = 1000 (0.845 sec)\n",
      "INFO:tensorflow:global_step/sec: 115.119\n",
      "INFO:tensorflow:loss = 229.16238, step = 1100 (0.867 sec)\n",
      "INFO:tensorflow:global_step/sec: 115.64\n",
      "INFO:tensorflow:loss = 211.36333, step = 1200 (0.865 sec)\n",
      "INFO:tensorflow:global_step/sec: 121.063\n",
      "INFO:tensorflow:loss = 223.73459, step = 1300 (0.826 sec)\n",
      "INFO:tensorflow:global_step/sec: 120.153\n",
      "INFO:tensorflow:loss = 220.63275, step = 1400 (0.832 sec)\n",
      "INFO:tensorflow:global_step/sec: 118.129\n",
      "INFO:tensorflow:loss = 221.84634, step = 1500 (0.848 sec)\n",
      "INFO:tensorflow:global_step/sec: 122.236\n",
      "INFO:tensorflow:loss = 214.66599, step = 1600 (0.818 sec)\n",
      "INFO:tensorflow:global_step/sec: 119.975\n",
      "INFO:tensorflow:loss = 215.90187, step = 1700 (0.833 sec)\n",
      "INFO:tensorflow:global_step/sec: 124.215\n",
      "INFO:tensorflow:loss = 215.09032, step = 1800 (0.806 sec)\n",
      "INFO:tensorflow:global_step/sec: 123.484\n",
      "INFO:tensorflow:loss = 219.9604, step = 1900 (0.809 sec)\n",
      "INFO:tensorflow:global_step/sec: 118.338\n",
      "INFO:tensorflow:loss = 209.85391, step = 2000 (0.845 sec)\n",
      "INFO:tensorflow:global_step/sec: 128.873\n",
      "INFO:tensorflow:loss = 221.75139, step = 2100 (0.776 sec)\n",
      "INFO:tensorflow:global_step/sec: 116.392\n",
      "INFO:tensorflow:loss = 215.03214, step = 2200 (0.860 sec)\n",
      "INFO:tensorflow:global_step/sec: 125.238\n",
      "INFO:tensorflow:loss = 212.99266, step = 2300 (0.798 sec)\n",
      "INFO:tensorflow:global_step/sec: 118.711\n",
      "INFO:tensorflow:loss = 207.16426, step = 2400 (0.841 sec)\n",
      "INFO:tensorflow:global_step/sec: 115.808\n",
      "INFO:tensorflow:loss = 212.36859, step = 2500 (0.867 sec)\n",
      "INFO:tensorflow:global_step/sec: 127.119\n",
      "INFO:tensorflow:loss = 215.57768, step = 2600 (0.784 sec)\n",
      "INFO:tensorflow:global_step/sec: 124.173\n",
      "INFO:tensorflow:loss = 209.22235, step = 2700 (0.805 sec)\n",
      "INFO:tensorflow:global_step/sec: 125.608\n",
      "INFO:tensorflow:loss = 208.45702, step = 2800 (0.795 sec)\n",
      "INFO:tensorflow:global_step/sec: 121.584\n",
      "INFO:tensorflow:loss = 212.1137, step = 2900 (0.825 sec)\n",
      "INFO:tensorflow:global_step/sec: 121.565\n",
      "INFO:tensorflow:loss = 207.1946, step = 3000 (0.818 sec)\n",
      "INFO:tensorflow:global_step/sec: 130.576\n",
      "INFO:tensorflow:loss = 205.73175, step = 3100 (0.769 sec)\n",
      "INFO:tensorflow:global_step/sec: 123.957\n",
      "INFO:tensorflow:loss = 210.10979, step = 3200 (0.807 sec)\n",
      "INFO:tensorflow:global_step/sec: 123.649\n",
      "INFO:tensorflow:loss = 204.3576, step = 3300 (0.808 sec)\n",
      "INFO:tensorflow:global_step/sec: 123.3\n",
      "INFO:tensorflow:loss = 207.94055, step = 3400 (0.810 sec)\n",
      "INFO:tensorflow:global_step/sec: 124.027\n",
      "INFO:tensorflow:loss = 213.06392, step = 3500 (0.807 sec)\n",
      "INFO:tensorflow:global_step/sec: 117.901\n",
      "INFO:tensorflow:loss = 203.47061, step = 3600 (0.847 sec)\n",
      "INFO:tensorflow:global_step/sec: 116.833\n",
      "INFO:tensorflow:loss = 204.05635, step = 3700 (0.860 sec)\n",
      "INFO:tensorflow:global_step/sec: 118.658\n",
      "INFO:tensorflow:loss = 205.69093, step = 3800 (0.842 sec)\n",
      "INFO:tensorflow:global_step/sec: 121.964\n",
      "INFO:tensorflow:loss = 205.06113, step = 3900 (0.821 sec)\n",
      "INFO:tensorflow:global_step/sec: 117.096\n",
      "INFO:tensorflow:loss = 198.64381, step = 4000 (0.852 sec)\n",
      "INFO:tensorflow:global_step/sec: 119.256\n",
      "INFO:tensorflow:loss = 213.82062, step = 4100 (0.838 sec)\n",
      "INFO:tensorflow:global_step/sec: 121.552\n",
      "INFO:tensorflow:loss = 198.96565, step = 4200 (0.825 sec)\n",
      "INFO:tensorflow:global_step/sec: 113.972\n",
      "INFO:tensorflow:loss = 207.71289, step = 4300 (0.876 sec)\n",
      "INFO:tensorflow:global_step/sec: 109.991\n",
      "INFO:tensorflow:loss = 209.00229, step = 4400 (0.910 sec)\n",
      "INFO:tensorflow:global_step/sec: 124.914\n",
      "INFO:tensorflow:loss = 201.42143, step = 4500 (0.798 sec)\n",
      "INFO:tensorflow:global_step/sec: 120.835\n",
      "INFO:tensorflow:loss = 210.00049, step = 4600 (0.827 sec)\n",
      "INFO:tensorflow:global_step/sec: 120.829\n",
      "INFO:tensorflow:loss = 217.29854, step = 4700 (0.828 sec)\n",
      "INFO:tensorflow:global_step/sec: 115.627\n",
      "INFO:tensorflow:loss = 198.0781, step = 4800 (0.866 sec)\n",
      "INFO:tensorflow:global_step/sec: 117.761\n",
      "INFO:tensorflow:loss = 200.07841, step = 4900 (0.849 sec)\n",
      "INFO:tensorflow:global_step/sec: 127.671\n",
      "INFO:tensorflow:loss = 199.29019, step = 5000 (0.782 sec)\n",
      "INFO:tensorflow:global_step/sec: 115.033\n",
      "INFO:tensorflow:loss = 205.6494, step = 5100 (0.871 sec)\n",
      "INFO:tensorflow:global_step/sec: 117.545\n",
      "INFO:tensorflow:loss = 198.56763, step = 5200 (0.855 sec)\n",
      "INFO:tensorflow:global_step/sec: 107.932\n",
      "INFO:tensorflow:loss = 197.85277, step = 5300 (0.923 sec)\n",
      "INFO:tensorflow:global_step/sec: 125.93\n",
      "INFO:tensorflow:loss = 198.1329, step = 5400 (0.791 sec)\n",
      "INFO:tensorflow:global_step/sec: 111.807\n",
      "INFO:tensorflow:loss = 185.41643, step = 5500 (0.897 sec)\n",
      "INFO:tensorflow:global_step/sec: 103.506\n",
      "INFO:tensorflow:loss = 205.98273, step = 5600 (0.968 sec)\n",
      "INFO:tensorflow:global_step/sec: 111.931\n",
      "INFO:tensorflow:loss = 203.02016, step = 5700 (0.894 sec)\n",
      "INFO:tensorflow:global_step/sec: 114.353\n",
      "INFO:tensorflow:loss = 199.23245, step = 5800 (0.872 sec)\n",
      "INFO:tensorflow:global_step/sec: 125.884\n",
      "INFO:tensorflow:loss = 202.57094, step = 5900 (0.795 sec)\n",
      "INFO:tensorflow:global_step/sec: 109.931\n",
      "INFO:tensorflow:loss = 200.54643, step = 6000 (0.914 sec)\n",
      "INFO:tensorflow:global_step/sec: 108.793\n",
      "INFO:tensorflow:loss = 201.80444, step = 6100 (0.911 sec)\n",
      "INFO:tensorflow:global_step/sec: 123.797\n",
      "INFO:tensorflow:loss = 198.13277, step = 6200 (0.811 sec)\n",
      "INFO:tensorflow:global_step/sec: 118.794\n",
      "INFO:tensorflow:loss = 198.80621, step = 6300 (0.842 sec)\n",
      "INFO:tensorflow:global_step/sec: 103.593\n",
      "INFO:tensorflow:loss = 199.65976, step = 6400 (0.970 sec)\n",
      "INFO:tensorflow:global_step/sec: 86.9489\n",
      "INFO:tensorflow:loss = 201.02335, step = 6500 (1.144 sec)\n",
      "INFO:tensorflow:global_step/sec: 110.508\n",
      "INFO:tensorflow:loss = 189.43253, step = 6600 (0.903 sec)\n",
      "INFO:tensorflow:global_step/sec: 96.7195\n",
      "INFO:tensorflow:loss = 202.73674, step = 6700 (1.036 sec)\n",
      "INFO:tensorflow:global_step/sec: 102.754\n",
      "INFO:tensorflow:loss = 204.8268, step = 6800 (0.974 sec)\n",
      "INFO:tensorflow:global_step/sec: 98.9778\n",
      "INFO:tensorflow:loss = 196.24031, step = 6900 (1.008 sec)\n",
      "INFO:tensorflow:global_step/sec: 103.565\n",
      "INFO:tensorflow:loss = 192.79855, step = 7000 (0.968 sec)\n",
      "INFO:tensorflow:global_step/sec: 108.21\n",
      "INFO:tensorflow:loss = 191.29959, step = 7100 (0.924 sec)\n",
      "INFO:tensorflow:global_step/sec: 119.473\n",
      "INFO:tensorflow:loss = 190.0238, step = 7200 (0.836 sec)\n",
      "INFO:tensorflow:global_step/sec: 117.943\n",
      "INFO:tensorflow:loss = 197.59665, step = 7300 (0.849 sec)\n",
      "INFO:tensorflow:global_step/sec: 121.89\n",
      "INFO:tensorflow:loss = 198.97421, step = 7400 (0.820 sec)\n",
      "INFO:tensorflow:global_step/sec: 123.066\n"
     ]
    },
    {
     "name": "stdout",
     "output_type": "stream",
     "text": [
      "INFO:tensorflow:loss = 193.52861, step = 7500 (0.812 sec)\n",
      "INFO:tensorflow:global_step/sec: 127.963\n",
      "INFO:tensorflow:loss = 198.70369, step = 7600 (0.781 sec)\n",
      "INFO:tensorflow:global_step/sec: 110.589\n",
      "INFO:tensorflow:loss = 235.72528, step = 7700 (0.906 sec)\n",
      "INFO:tensorflow:global_step/sec: 107.438\n",
      "INFO:tensorflow:loss = 206.2568, step = 7800 (0.930 sec)\n",
      "INFO:tensorflow:global_step/sec: 130.338\n",
      "INFO:tensorflow:loss = 193.13248, step = 7900 (0.769 sec)\n",
      "INFO:tensorflow:global_step/sec: 96.9344\n",
      "INFO:tensorflow:loss = 196.96133, step = 8000 (1.032 sec)\n",
      "INFO:tensorflow:global_step/sec: 105.624\n",
      "INFO:tensorflow:loss = 194.31155, step = 8100 (0.947 sec)\n",
      "INFO:tensorflow:global_step/sec: 106.461\n",
      "INFO:tensorflow:loss = 191.31715, step = 8200 (0.938 sec)\n",
      "INFO:tensorflow:global_step/sec: 114.66\n",
      "INFO:tensorflow:loss = 185.8268, step = 8300 (0.872 sec)\n",
      "INFO:tensorflow:global_step/sec: 111.908\n",
      "INFO:tensorflow:loss = 192.09103, step = 8400 (0.891 sec)\n",
      "INFO:tensorflow:global_step/sec: 124.166\n",
      "INFO:tensorflow:loss = 197.67719, step = 8500 (0.809 sec)\n",
      "INFO:tensorflow:global_step/sec: 116.771\n",
      "INFO:tensorflow:loss = 197.01306, step = 8600 (0.855 sec)\n",
      "INFO:tensorflow:global_step/sec: 108.419\n",
      "INFO:tensorflow:loss = 189.45728, step = 8700 (0.923 sec)\n",
      "INFO:tensorflow:global_step/sec: 125.463\n",
      "INFO:tensorflow:loss = 203.47614, step = 8800 (0.800 sec)\n",
      "INFO:tensorflow:global_step/sec: 108.412\n",
      "INFO:tensorflow:loss = 184.69504, step = 8900 (0.920 sec)\n",
      "INFO:tensorflow:global_step/sec: 143.508\n",
      "INFO:tensorflow:loss = 181.50319, step = 9000 (0.695 sec)\n",
      "INFO:tensorflow:global_step/sec: 107.314\n",
      "INFO:tensorflow:loss = 198.93277, step = 9100 (0.933 sec)\n",
      "INFO:tensorflow:global_step/sec: 109.295\n",
      "INFO:tensorflow:loss = 188.99272, step = 9200 (0.915 sec)\n",
      "INFO:tensorflow:global_step/sec: 107.116\n",
      "INFO:tensorflow:loss = 182.22105, step = 9300 (0.933 sec)\n",
      "INFO:tensorflow:global_step/sec: 101.907\n",
      "INFO:tensorflow:loss = 188.57727, step = 9400 (0.982 sec)\n",
      "INFO:tensorflow:global_step/sec: 110.821\n",
      "INFO:tensorflow:loss = 183.21683, step = 9500 (0.903 sec)\n",
      "INFO:tensorflow:global_step/sec: 104.499\n",
      "INFO:tensorflow:loss = 184.22624, step = 9600 (0.957 sec)\n",
      "INFO:tensorflow:global_step/sec: 90.8605\n",
      "INFO:tensorflow:loss = 188.5308, step = 9700 (1.103 sec)\n",
      "INFO:tensorflow:global_step/sec: 90.983\n",
      "INFO:tensorflow:loss = 191.54205, step = 9800 (1.096 sec)\n",
      "INFO:tensorflow:global_step/sec: 100.666\n",
      "INFO:tensorflow:loss = 186.7145, step = 9900 (0.997 sec)\n",
      "INFO:tensorflow:Saving checkpoints for 10000 into C:\\Users\\vivek\\AppData\\Local\\Temp\\tmpp9v9vdim\\model.ckpt.\n",
      "INFO:tensorflow:Loss for final step: 186.65367.\n"
     ]
    }
   ],
   "source": [
    "for i in range(1):\n",
    "    model.train(input_fn=make_input_fun(data,no_of_epochs=200),steps=10000)"
   ]
  },
  {
   "cell_type": "code",
   "execution_count": 11,
   "metadata": {},
   "outputs": [
    {
     "name": "stdout",
     "output_type": "stream",
     "text": [
      "WARNING:tensorflow:enqueue_data was called with num_epochs and num_threads > 1. num_epochs is applied per thread, so this will produce more epochs than you probably intend. If you want to limit epochs, use one thread.\n",
      "WARNING:tensorflow:enqueue_data was called with shuffle=True, num_threads > 1, and num_epochs. This will create multiple threads, all reading the array/dataframe in order adding to the same shuffling queue; the results will likely not be sufficiently shuffled.\n",
      "INFO:tensorflow:Calling model_fn.\n",
      "INFO:tensorflow:Done calling model_fn.\n",
      "INFO:tensorflow:Starting evaluation at 2018-12-08-10:23:07\n",
      "INFO:tensorflow:Graph was finalized.\n",
      "INFO:tensorflow:Restoring parameters from C:\\Users\\vivek\\AppData\\Local\\Temp\\tmpp9v9vdim\\model.ckpt-10000\n",
      "INFO:tensorflow:Running local_init_op.\n",
      "INFO:tensorflow:Done running local_init_op.\n",
      "INFO:tensorflow:Finished evaluation at 2018-12-08-10:26:46\n",
      "INFO:tensorflow:Saving dict for global step 10000: average_loss = 0.36294124, global_step = 10000, label/mean = 2.3286564e-07, loss = 185.82512, prediction/mean = 0.05244835\n",
      "INFO:tensorflow:Saving 'checkpoint_path' summary for global step 10000: C:\\Users\\vivek\\AppData\\Local\\Temp\\tmpp9v9vdim\\model.ckpt-10000\n",
      "RMSE on validation dataset = 0.6024460196495056\n"
     ]
    }
   ],
   "source": [
    "import numpy as np\n",
    "def print_rmse(model, name, df):\n",
    "  metrics = model.evaluate(input_fn = make_input_fun(df, 1))\n",
    "  print('RMSE on {} dataset = {}'.format(name, np.sqrt(metrics['average_loss'])))\n",
    "print_rmse(model, 'validation', data)"
   ]
  },
  {
   "cell_type": "code",
   "execution_count": null,
   "metadata": {},
   "outputs": [],
   "source": []
  },
  {
   "cell_type": "code",
   "execution_count": null,
   "metadata": {},
   "outputs": [],
   "source": []
  }
 ],
 "metadata": {
  "kernelspec": {
   "display_name": "Python 3",
   "language": "python",
   "name": "python3"
  },
  "language_info": {
   "codemirror_mode": {
    "name": "ipython",
    "version": 3
   },
   "file_extension": ".py",
   "mimetype": "text/x-python",
   "name": "python",
   "nbconvert_exporter": "python",
   "pygments_lexer": "ipython3",
   "version": "3.6.4"
  }
 },
 "nbformat": 4,
 "nbformat_minor": 2
}
